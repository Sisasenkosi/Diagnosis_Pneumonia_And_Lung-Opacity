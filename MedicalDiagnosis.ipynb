{
  "nbformat": 4,
  "nbformat_minor": 0,
  "metadata": {
    "colab": {
      "provenance": [],
      "authorship_tag": "ABX9TyNjiqWKVNIPrQ7tuwIXhF9l",
      "include_colab_link": true
    },
    "kernelspec": {
      "name": "python3",
      "display_name": "Python 3"
    },
    "language_info": {
      "name": "python"
    }
  },
  "cells": [
    {
      "cell_type": "markdown",
      "metadata": {
        "id": "view-in-github",
        "colab_type": "text"
      },
      "source": [
        "<a href=\"https://colab.research.google.com/github/Sisasenkosi/Diagnosis_Pneumonia_And_Lung-Opacity/blob/main/MedicalDiagnosis.ipynb\" target=\"_parent\"><img src=\"https://colab.research.google.com/assets/colab-badge.svg\" alt=\"Open In Colab\"/></a>"
      ]
    },
    {
      "cell_type": "markdown",
      "source": [
        "**THE IMPORTS**"
      ],
      "metadata": {
        "id": "bguuBTE0YgB3"
      }
    },
    {
      "cell_type": "code",
      "execution_count": null,
      "metadata": {
        "id": "M8h9SKR1PMgX"
      },
      "outputs": [],
      "source": [
        "from keras.datasets import mnist\n",
        "from keras.models import Model, load_model\n",
        "from keras.utils import image_dataset_from_directory\n",
        "from keras.callbacks import ModelCheckpoint, EarlyStopping\n",
        "from keras.layers import Conv2D, MaxPooling2D, Dense\n",
        "from keras.layers import Input, Flatten, Rescaling"
      ]
    },
    {
      "cell_type": "markdown",
      "source": [
        "Mounting the drive"
      ],
      "metadata": {
        "id": "_NHDWx_o1KqA"
      }
    },
    {
      "cell_type": "code",
      "source": [
        "from google.colab import drive\n",
        "drive.mount('/gdrive')\n",
        "%cd /gdrive"
      ],
      "metadata": {
        "colab": {
          "base_uri": "https://localhost:8080/"
        },
        "id": "hXdZ34gpQus0",
        "outputId": "31920488-7619-412e-de2c-1f53c0360489"
      },
      "execution_count": null,
      "outputs": [
        {
          "output_type": "stream",
          "name": "stdout",
          "text": [
            "Mounted at /gdrive\n",
            "/gdrive\n"
          ]
        }
      ]
    },
    {
      "cell_type": "markdown",
      "source": [
        "Copying the dataset into smaller dataset in new directories"
      ],
      "metadata": {
        "id": "SkmnBzdo1S2V"
      }
    },
    {
      "cell_type": "code",
      "source": [
        "import os, shutil\n",
        "import pathlib\n",
        "\n",
        "\n",
        "original_path = pathlib.Path('/gdrive/MyDrive/DataSet') \n",
        "new_path = pathlib.Path('/gdrive/MyDrive/Colab Notebooks/Medical_smallerData')\n",
        "def make_subset(subset_name, start_index, end_index):\n",
        "    for category in ['Lung_Opacity','Normal','Viral Pneumonia']:\n",
        "        folder = f'{new_path}/{subset_name}/{category}'\n",
        "        os.makedirs(folder)\n",
        "        \n",
        "\n",
        "        filenames = [f'{category}-{i}.png' for i in range(start_index, end_index)]\n",
        "        for filename in filenames:\n",
        "            shutil.copyfile(src=f'{original_path}/{category}/{filename}', dst=f'{folder}/{filename}')\n",
        "\n",
        "make_subset(\"train\", start_index=1, end_index=1000)\n",
        "make_subset(\"validation\", start_index=1000, end_index=1200)\n",
        "make_subset(\"test\", start_index=1200, end_index=1340)"
      ],
      "metadata": {
        "id": "XhUBaMgmYQ3B"
      },
      "execution_count": null,
      "outputs": []
    },
    {
      "cell_type": "markdown",
      "source": [
        "Setting the dataset paths in directories"
      ],
      "metadata": {
        "id": "HcP2OgdJ1i8g"
      }
    },
    {
      "cell_type": "code",
      "source": [
        "import pathlib\n",
        "train_dataset = image_dataset_from_directory(\n",
        "    directory= pathlib.Path ('/gdrive/MyDrive/Colab Notebooks/Medical_smallerData/train'),\n",
        "    image_size=(180, 180),\n",
        "    batch_size=32\n",
        ")\n",
        "\n",
        "val_dataset = image_dataset_from_directory(\n",
        "    directory= pathlib.Path('/gdrive/MyDrive/Colab Notebooks/Medical_smallerData/validation'),\n",
        "    image_size=(180, 180),\n",
        "    batch_size=32\n",
        ")\n",
        "\n",
        "test_dataset = image_dataset_from_directory(\n",
        "    directory= pathlib.Path ('/gdrive/MyDrive/Colab Notebooks/Medical_smallerData/test'),\n",
        "    image_size=(180, 180),\n",
        "    batch_size=32\n",
        ")"
      ],
      "metadata": {
        "colab": {
          "base_uri": "https://localhost:8080/"
        },
        "id": "Zxe8na7UQ6AA",
        "outputId": "1c20f42a-dd97-451f-b115-f0ee4c4edd09"
      },
      "execution_count": null,
      "outputs": [
        {
          "output_type": "stream",
          "name": "stdout",
          "text": [
            "Found 2997 files belonging to 3 classes.\n",
            "Found 600 files belonging to 3 classes.\n",
            "Found 420 files belonging to 3 classes.\n"
          ]
        }
      ]
    },
    {
      "cell_type": "markdown",
      "source": [
        "Shape of training data"
      ],
      "metadata": {
        "id": "mSvAanBW1uRF"
      }
    },
    {
      "cell_type": "code",
      "source": [
        "for data, labels in train_dataset:\n",
        "    print(data.shape, labels.shape)"
      ],
      "metadata": {
        "colab": {
          "base_uri": "https://localhost:8080/"
        },
        "id": "304ls65Ng8qD",
        "outputId": "d07e46b2-140e-41a0-d07d-3120ac107c45"
      },
      "execution_count": null,
      "outputs": [
        {
          "output_type": "stream",
          "name": "stdout",
          "text": [
            "(32, 180, 180, 3) (32,)\n",
            "(32, 180, 180, 3) (32,)\n",
            "(32, 180, 180, 3) (32,)\n",
            "(32, 180, 180, 3) (32,)\n",
            "(32, 180, 180, 3) (32,)\n",
            "(32, 180, 180, 3) (32,)\n",
            "(32, 180, 180, 3) (32,)\n",
            "(32, 180, 180, 3) (32,)\n",
            "(32, 180, 180, 3) (32,)\n",
            "(32, 180, 180, 3) (32,)\n",
            "(32, 180, 180, 3) (32,)\n",
            "(32, 180, 180, 3) (32,)\n",
            "(32, 180, 180, 3) (32,)\n",
            "(32, 180, 180, 3) (32,)\n",
            "(32, 180, 180, 3) (32,)\n",
            "(32, 180, 180, 3) (32,)\n",
            "(32, 180, 180, 3) (32,)\n",
            "(32, 180, 180, 3) (32,)\n",
            "(32, 180, 180, 3) (32,)\n",
            "(32, 180, 180, 3) (32,)\n",
            "(32, 180, 180, 3) (32,)\n",
            "(32, 180, 180, 3) (32,)\n",
            "(32, 180, 180, 3) (32,)\n",
            "(32, 180, 180, 3) (32,)\n",
            "(32, 180, 180, 3) (32,)\n",
            "(32, 180, 180, 3) (32,)\n",
            "(32, 180, 180, 3) (32,)\n",
            "(32, 180, 180, 3) (32,)\n",
            "(32, 180, 180, 3) (32,)\n",
            "(32, 180, 180, 3) (32,)\n",
            "(32, 180, 180, 3) (32,)\n",
            "(32, 180, 180, 3) (32,)\n",
            "(32, 180, 180, 3) (32,)\n",
            "(32, 180, 180, 3) (32,)\n",
            "(32, 180, 180, 3) (32,)\n",
            "(32, 180, 180, 3) (32,)\n",
            "(32, 180, 180, 3) (32,)\n",
            "(32, 180, 180, 3) (32,)\n",
            "(32, 180, 180, 3) (32,)\n",
            "(32, 180, 180, 3) (32,)\n",
            "(32, 180, 180, 3) (32,)\n",
            "(32, 180, 180, 3) (32,)\n",
            "(32, 180, 180, 3) (32,)\n",
            "(32, 180, 180, 3) (32,)\n",
            "(32, 180, 180, 3) (32,)\n",
            "(32, 180, 180, 3) (32,)\n",
            "(32, 180, 180, 3) (32,)\n",
            "(32, 180, 180, 3) (32,)\n",
            "(32, 180, 180, 3) (32,)\n",
            "(32, 180, 180, 3) (32,)\n",
            "(32, 180, 180, 3) (32,)\n",
            "(32, 180, 180, 3) (32,)\n",
            "(32, 180, 180, 3) (32,)\n",
            "(32, 180, 180, 3) (32,)\n",
            "(32, 180, 180, 3) (32,)\n",
            "(32, 180, 180, 3) (32,)\n",
            "(32, 180, 180, 3) (32,)\n",
            "(32, 180, 180, 3) (32,)\n",
            "(32, 180, 180, 3) (32,)\n",
            "(32, 180, 180, 3) (32,)\n",
            "(32, 180, 180, 3) (32,)\n",
            "(32, 180, 180, 3) (32,)\n",
            "(32, 180, 180, 3) (32,)\n",
            "(32, 180, 180, 3) (32,)\n",
            "(32, 180, 180, 3) (32,)\n",
            "(32, 180, 180, 3) (32,)\n",
            "(32, 180, 180, 3) (32,)\n",
            "(32, 180, 180, 3) (32,)\n",
            "(32, 180, 180, 3) (32,)\n",
            "(32, 180, 180, 3) (32,)\n",
            "(32, 180, 180, 3) (32,)\n",
            "(32, 180, 180, 3) (32,)\n",
            "(32, 180, 180, 3) (32,)\n",
            "(32, 180, 180, 3) (32,)\n",
            "(32, 180, 180, 3) (32,)\n",
            "(32, 180, 180, 3) (32,)\n",
            "(32, 180, 180, 3) (32,)\n",
            "(32, 180, 180, 3) (32,)\n",
            "(32, 180, 180, 3) (32,)\n",
            "(32, 180, 180, 3) (32,)\n",
            "(32, 180, 180, 3) (32,)\n",
            "(32, 180, 180, 3) (32,)\n",
            "(32, 180, 180, 3) (32,)\n",
            "(32, 180, 180, 3) (32,)\n",
            "(32, 180, 180, 3) (32,)\n",
            "(32, 180, 180, 3) (32,)\n",
            "(32, 180, 180, 3) (32,)\n",
            "(32, 180, 180, 3) (32,)\n",
            "(32, 180, 180, 3) (32,)\n",
            "(32, 180, 180, 3) (32,)\n",
            "(32, 180, 180, 3) (32,)\n",
            "(32, 180, 180, 3) (32,)\n",
            "(32, 180, 180, 3) (32,)\n",
            "(21, 180, 180, 3) (21,)\n"
          ]
        }
      ]
    },
    {
      "cell_type": "markdown",
      "source": [
        "Defining the model"
      ],
      "metadata": {
        "id": "aKvDp_Wt12zn"
      }
    },
    {
      "cell_type": "code",
      "source": [
        "inputs = Input(shape=(180,180,3))\n",
        "x = Rescaling(scale=1/255)(inputs)\n",
        "x = Conv2D(filters= 32, kernel_size=3, activation= 'relu')(x)\n",
        "x = MaxPooling2D(pool_size=2)(x)\n",
        "x = Conv2D(filters= 32, kernel_size=3, activation= 'relu')(x)\n",
        "x = MaxPooling2D(pool_size=2)(x)\n",
        "x = Conv2D(filters=32, kernel_size=3, activation='relu')(x)\n",
        "x = MaxPooling2D(pool_size=2)(x)\n",
        "x = Conv2D(filters=64, kernel_size=3, activation='relu')(x)\n",
        "x = MaxPooling2D(pool_size=2)(x)\n",
        "#-------------------------------------\n",
        "x = Flatten()(x)\n",
        "x = Dense(units=10, activation='relu')(x)\n",
        "outputs = Dense(units=3, activation='softmax')(x)\n",
        "model = Model(inputs=inputs, outputs=outputs)\n",
        "\n",
        "model.compile(optimizer='rmsprop', loss = 'sparse_categorical_crossentropy', metrics=['accuracy'])\n",
        "\n",
        "model.summary()"
      ],
      "metadata": {
        "colab": {
          "base_uri": "https://localhost:8080/"
        },
        "id": "Hs5kiExGhUvC",
        "outputId": "c4ba48a1-6995-4076-97d4-cfbd3a3a3df5"
      },
      "execution_count": null,
      "outputs": [
        {
          "output_type": "stream",
          "name": "stdout",
          "text": [
            "Model: \"model\"\n",
            "_________________________________________________________________\n",
            " Layer (type)                Output Shape              Param #   \n",
            "=================================================================\n",
            " input_1 (InputLayer)        [(None, 180, 180, 3)]     0         \n",
            "                                                                 \n",
            " rescaling (Rescaling)       (None, 180, 180, 3)       0         \n",
            "                                                                 \n",
            " conv2d (Conv2D)             (None, 178, 178, 32)      896       \n",
            "                                                                 \n",
            " max_pooling2d (MaxPooling2D  (None, 89, 89, 32)       0         \n",
            " )                                                               \n",
            "                                                                 \n",
            " conv2d_1 (Conv2D)           (None, 87, 87, 32)        9248      \n",
            "                                                                 \n",
            " max_pooling2d_1 (MaxPooling  (None, 43, 43, 32)       0         \n",
            " 2D)                                                             \n",
            "                                                                 \n",
            " conv2d_2 (Conv2D)           (None, 41, 41, 32)        9248      \n",
            "                                                                 \n",
            " max_pooling2d_2 (MaxPooling  (None, 20, 20, 32)       0         \n",
            " 2D)                                                             \n",
            "                                                                 \n",
            " conv2d_3 (Conv2D)           (None, 18, 18, 64)        18496     \n",
            "                                                                 \n",
            " max_pooling2d_3 (MaxPooling  (None, 9, 9, 64)         0         \n",
            " 2D)                                                             \n",
            "                                                                 \n",
            " flatten (Flatten)           (None, 5184)              0         \n",
            "                                                                 \n",
            " dense (Dense)               (None, 10)                51850     \n",
            "                                                                 \n",
            " dense_1 (Dense)             (None, 4)                 44        \n",
            "                                                                 \n",
            "=================================================================\n",
            "Total params: 89,782\n",
            "Trainable params: 89,782\n",
            "Non-trainable params: 0\n",
            "_________________________________________________________________\n"
          ]
        }
      ]
    },
    {
      "cell_type": "markdown",
      "source": [
        "Defining the callbacks and training"
      ],
      "metadata": {
        "id": "tWL2a9be2CCq"
      }
    },
    {
      "cell_type": "code",
      "source": [
        "callbacks = [\n",
        "    ModelCheckpoint(\n",
        "        filepath=pathlib.Path('/gdrive/MyDrive/Colab Notebooks/best_model/best_model.hdf5'),\n",
        "        save_best_only=True,\n",
        "    ),\n",
        "    EarlyStopping(\n",
        "        patience=2\n",
        "    )\n",
        "]\n",
        "\n",
        "history = model.fit(train_dataset, batch_size= 64,  epochs=6, callbacks=callbacks, validation_data=val_dataset)"
      ],
      "metadata": {
        "colab": {
          "base_uri": "https://localhost:8080/"
        },
        "id": "VT8bB9CLjKHB",
        "outputId": "4316991f-2f11-403d-a615-80edaa29876e"
      },
      "execution_count": null,
      "outputs": [
        {
          "output_type": "stream",
          "name": "stdout",
          "text": [
            "Epoch 1/6\n",
            "94/94 [==============================] - 147s 2s/step - loss: 0.3576 - accuracy: 0.8846 - val_loss: 0.3426 - val_accuracy: 0.8700\n",
            "Epoch 2/6\n",
            "94/94 [==============================] - 149s 2s/step - loss: 0.3296 - accuracy: 0.8986 - val_loss: 0.2213 - val_accuracy: 0.9283\n",
            "Epoch 3/6\n",
            "94/94 [==============================] - 148s 2s/step - loss: 0.2926 - accuracy: 0.9086 - val_loss: 0.2049 - val_accuracy: 0.9383\n",
            "Epoch 4/6\n",
            "94/94 [==============================] - 146s 2s/step - loss: 0.2698 - accuracy: 0.9129 - val_loss: 0.2713 - val_accuracy: 0.9050\n",
            "Epoch 5/6\n",
            "94/94 [==============================] - 146s 2s/step - loss: 0.2561 - accuracy: 0.9199 - val_loss: 0.1844 - val_accuracy: 0.9450\n",
            "Epoch 6/6\n",
            "94/94 [==============================] - 147s 2s/step - loss: 0.2415 - accuracy: 0.9246 - val_loss: 0.2172 - val_accuracy: 0.9367\n"
          ]
        }
      ]
    },
    {
      "cell_type": "markdown",
      "source": [
        "Evaluating the model"
      ],
      "metadata": {
        "id": "qHAQw1CN194V"
      }
    },
    {
      "cell_type": "code",
      "source": [
        "test_loss, test_acc = model.evaluate(test_dataset)"
      ],
      "metadata": {
        "colab": {
          "base_uri": "https://localhost:8080/"
        },
        "id": "bEBPCNun1QDC",
        "outputId": "5e5a2c3e-be7f-486e-9bac-6837efc08049"
      },
      "execution_count": null,
      "outputs": [
        {
          "output_type": "stream",
          "name": "stdout",
          "text": [
            "14/14 [==============================] - 6s 385ms/step - loss: 0.2215 - accuracy: 0.9333\n"
          ]
        }
      ]
    },
    {
      "cell_type": "code",
      "source": [
        "import matplotlib.pyplot as plt\n",
        "plt.plot(history.history['loss'], label = 'Training loss')\n",
        "plt.plot(history.history['val_loss'], label = 'Validation loss')\n",
        "plt.legend()"
      ],
      "metadata": {
        "id": "7594izU81cbx"
      },
      "execution_count": null,
      "outputs": []
    }
  ]
}